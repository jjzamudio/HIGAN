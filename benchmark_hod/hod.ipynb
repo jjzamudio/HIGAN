{
 "cells": [
  {
   "cell_type": "code",
   "execution_count": 1,
   "metadata": {},
   "outputs": [
    {
     "name": "stderr",
     "output_type": "stream",
     "text": [
      "/share/apps/h5py/2.7.0rc2/intel/lib/python2.7/site-packages/h5py-2.7.0rc2-py2.7-linux-x86_64.egg/h5py/__init__.py:34: FutureWarning: Conversion of the second argument of issubdtype from `float` to `np.floating` is deprecated. In future, it will be treated as `np.float64 == np.dtype(float).type`.\n",
      "  from ._conv import register_converters as _register_converters\n"
     ]
    }
   ],
   "source": [
    "from __future__ import print_function\n",
    "import numpy as np\n",
    "import h5py\n",
    "import pickle as pkl\n",
    "import random\n",
    "import torch\n",
    "import torch.utils.data\n",
    "from torch.utils.data import Dataset, DataLoader\n",
    "from torch.distributions import normal\n",
    "import itertools\n",
    "from matplotlib.ticker import MultipleLocator\n",
    "from mpl_toolkits.mplot3d.art3d import Poly3DCollection\n",
    "import pandas as pd\n",
    "from collections import defaultdict\n",
    "from mpl_toolkits.mplot3d import Axes3D\n",
    "from matplotlib import colors\n",
    "import scipy.spatial as sp\n",
    "import pyfftw\n",
    "import Pk_library as PKL\n",
    "import MAS_library as MASL"
   ]
  },
  {
   "cell_type": "code",
   "execution_count": 2,
   "metadata": {},
   "outputs": [],
   "source": [
    "redshift_df = pd.DataFrame(pd.read_csv(\"/scratch/adc563/final_/redshift_df_5.csv\"))"
   ]
  },
  {
   "cell_type": "code",
   "execution_count": 3,
   "metadata": {},
   "outputs": [
    {
     "data": {
      "text/html": [
       "<div>\n",
       "<table border=\"1\" class=\"dataframe\">\n",
       "  <thead>\n",
       "    <tr style=\"text-align: right;\">\n",
       "      <th></th>\n",
       "      <th>HI_mass</th>\n",
       "      <th>position_x</th>\n",
       "      <th>position_y</th>\n",
       "      <th>position_z</th>\n",
       "      <th>radius</th>\n",
       "      <th>total_mass</th>\n",
       "      <th>voxel_x</th>\n",
       "      <th>voxel_y</th>\n",
       "      <th>voxel_z</th>\n",
       "      <th>voxel_radius</th>\n",
       "      <th>mhi_per_part</th>\n",
       "      <th>r_0</th>\n",
       "      <th>alpha</th>\n",
       "      <th>density_profile</th>\n",
       "    </tr>\n",
       "  </thead>\n",
       "  <tbody>\n",
       "    <tr>\n",
       "      <th>0</th>\n",
       "      <td>6.017072e+10</td>\n",
       "      <td>52.565430</td>\n",
       "      <td>70.709950</td>\n",
       "      <td>41.806717</td>\n",
       "      <td>0.342796</td>\n",
       "      <td>2.717073e+12</td>\n",
       "      <td>1435.0</td>\n",
       "      <td>1930.0</td>\n",
       "      <td>1141.0</td>\n",
       "      <td>9.360607</td>\n",
       "      <td>6.017072e+07</td>\n",
       "      <td>0.006607</td>\n",
       "      <td>3.0</td>\n",
       "      <td>1.465240e+09</td>\n",
       "    </tr>\n",
       "    <tr>\n",
       "      <th>1</th>\n",
       "      <td>5.771502e+10</td>\n",
       "      <td>27.313435</td>\n",
       "      <td>68.982700</td>\n",
       "      <td>74.505150</td>\n",
       "      <td>0.184113</td>\n",
       "      <td>2.579728e+12</td>\n",
       "      <td>745.0</td>\n",
       "      <td>1883.0</td>\n",
       "      <td>2034.0</td>\n",
       "      <td>5.027502</td>\n",
       "      <td>5.771502e+07</td>\n",
       "      <td>0.006607</td>\n",
       "      <td>3.0</td>\n",
       "      <td>8.921816e+09</td>\n",
       "    </tr>\n",
       "    <tr>\n",
       "      <th>2</th>\n",
       "      <td>5.644856e+10</td>\n",
       "      <td>52.644394</td>\n",
       "      <td>10.293198</td>\n",
       "      <td>34.506596</td>\n",
       "      <td>0.291465</td>\n",
       "      <td>2.509526e+12</td>\n",
       "      <td>1437.0</td>\n",
       "      <td>281.0</td>\n",
       "      <td>942.0</td>\n",
       "      <td>7.958927</td>\n",
       "      <td>5.644856e+07</td>\n",
       "      <td>0.006607</td>\n",
       "      <td>3.0</td>\n",
       "      <td>2.228695e+09</td>\n",
       "    </tr>\n",
       "    <tr>\n",
       "      <th>3</th>\n",
       "      <td>5.156705e+10</td>\n",
       "      <td>10.922141</td>\n",
       "      <td>29.594847</td>\n",
       "      <td>71.926700</td>\n",
       "      <td>0.266747</td>\n",
       "      <td>2.243074e+12</td>\n",
       "      <td>298.0</td>\n",
       "      <td>808.0</td>\n",
       "      <td>1964.0</td>\n",
       "      <td>7.283962</td>\n",
       "      <td>5.156705e+07</td>\n",
       "      <td>0.006607</td>\n",
       "      <td>3.0</td>\n",
       "      <td>2.650443e+09</td>\n",
       "    </tr>\n",
       "    <tr>\n",
       "      <th>4</th>\n",
       "      <td>4.471247e+10</td>\n",
       "      <td>72.529680</td>\n",
       "      <td>11.999981</td>\n",
       "      <td>18.106144</td>\n",
       "      <td>0.267865</td>\n",
       "      <td>1.880590e+12</td>\n",
       "      <td>1980.0</td>\n",
       "      <td>327.0</td>\n",
       "      <td>494.0</td>\n",
       "      <td>7.314492</td>\n",
       "      <td>4.471247e+07</td>\n",
       "      <td>0.006607</td>\n",
       "      <td>3.0</td>\n",
       "      <td>2.269709e+09</td>\n",
       "    </tr>\n",
       "  </tbody>\n",
       "</table>\n",
       "</div>"
      ],
      "text/plain": [
       "        HI_mass  position_x  position_y  position_z    radius    total_mass  \\\n",
       "0  6.017072e+10   52.565430   70.709950   41.806717  0.342796  2.717073e+12   \n",
       "1  5.771502e+10   27.313435   68.982700   74.505150  0.184113  2.579728e+12   \n",
       "2  5.644856e+10   52.644394   10.293198   34.506596  0.291465  2.509526e+12   \n",
       "3  5.156705e+10   10.922141   29.594847   71.926700  0.266747  2.243074e+12   \n",
       "4  4.471247e+10   72.529680   11.999981   18.106144  0.267865  1.880590e+12   \n",
       "\n",
       "   voxel_x  voxel_y  voxel_z  voxel_radius  mhi_per_part       r_0  alpha  \\\n",
       "0   1435.0   1930.0   1141.0      9.360607  6.017072e+07  0.006607    3.0   \n",
       "1    745.0   1883.0   2034.0      5.027502  5.771502e+07  0.006607    3.0   \n",
       "2   1437.0    281.0    942.0      7.958927  5.644856e+07  0.006607    3.0   \n",
       "3    298.0    808.0   1964.0      7.283962  5.156705e+07  0.006607    3.0   \n",
       "4   1980.0    327.0    494.0      7.314492  4.471247e+07  0.006607    3.0   \n",
       "\n",
       "   density_profile  \n",
       "0     1.465240e+09  \n",
       "1     8.921816e+09  \n",
       "2     2.228695e+09  \n",
       "3     2.650443e+09  \n",
       "4     2.269709e+09  "
      ]
     },
     "execution_count": 3,
     "metadata": {},
     "output_type": "execute_result"
    }
   ],
   "source": [
    "redshift_df.head()"
   ]
  },
  {
   "cell_type": "code",
   "execution_count": 4,
   "metadata": {
    "collapsed": true
   },
   "outputs": [],
   "source": [
    "def get_particle_position_density(df, n_particles, epsilon=1e-3):\n",
    "    num_halos = df.shape[0]\n",
    "    n_particles = int(n_particles)\n",
    "    center_x, center_y, center_z = df[\"position_x\"], df[\"position_y\"], df[\"position_z\"]\n",
    "    U = np.random.rand(num_halos, n_particles)\n",
    "    V = np.random.rand(num_halos, n_particles)\n",
    "    W = np.random.rand(num_halos, n_particles)\n",
    "    print (\"random numbers generated.\")\n",
    "    r = epsilon*(np.power(np.array(df[\"radius\"]).reshape(-1,1)/epsilon, U)) # voxel r\n",
    "    phi = np.multiply(np.ones((num_halos, 1)), 2*np.pi*V)\n",
    "    theta = np.multiply(np.ones((num_halos, 1)), np.arccos(-1+2*W))\n",
    "    print (\"r, phi, theta generated.\")\n",
    "    x = np.array(center_x).reshape(-1,1) + np.multiply(np.multiply(r, np.sin(theta)), np.cos(phi))\n",
    "    y = np.array(center_y).reshape(-1,1) + np.multiply(np.multiply(r, np.sin(theta)), np.sin(phi))\n",
    "    z = np.array(center_z).reshape(-1,1) + np.multiply(r, np.cos(theta))\n",
    "    print (\"x, y, z generated. stacking started.\")\n",
    "    particles_in_halos = np.stack((x,y,z), axis=2)\n",
    "    return particles_in_halos"
   ]
  },
  {
   "cell_type": "code",
   "execution_count": 5,
   "metadata": {
    "collapsed": true
   },
   "outputs": [],
   "source": [
    "def write_mhi_per_particle(df, n_particles):\n",
    "    df[\"mhi_per_part\"] = df[\"HI_mass\"].apply(lambda x: x/n_particles)\n",
    "    return df\n",
    "\n",
    "def get_dens_list(df, n_particles):\n",
    "    position_density = []\n",
    "    for i in range(len(df)):\n",
    "        density = df[\"mhi_per_part\"].iloc[i]\n",
    "        position_density.extend([density for x in range(n_particles)])\n",
    "    return np.array(position_density)"
   ]
  },
  {
   "cell_type": "code",
   "execution_count": 7,
   "metadata": {
    "scrolled": true
   },
   "outputs": [
    {
     "name": "stdout",
     "output_type": "stream",
     "text": [
      "random numbers generated.\n",
      "r, phi, theta generated.\n",
      "x, y, z generated. stacking started.\n",
      "density list ready\n",
      "(938658800, 3)\n",
      "(938658800,)\n",
      "masking.\n",
      "(938544504, 3)\n",
      "(938544504,)\n",
      "saving files.\n"
     ]
    }
   ],
   "source": [
    "particles_in_halos = get_particle_position_density(redshift_df, 200)\n",
    "particles_in_halos = np.stack((particles_in_halos), axis=1)\n",
    "particles_in_halos = particles_in_halos.reshape(4693294*200,3)\n",
    "\n",
    "density_list = get_dens_list(redshift_df, 200)\n",
    "print (\"density list ready\")\n",
    "\n",
    "mask = (particles_in_halos>=0)&(particles_in_halos<=75)\n",
    "print (mask.shape)\n",
    "mask = mask.all(1)\n",
    "print (mask.shape)\n",
    "print (\"masking.\")\n",
    "\n",
    "particles_in_halos = particles_in_halos[mask]\n",
    "print (particles_in_halos.shape)\n",
    "density_list = density_list[mask]\n",
    "print (density_list.shape)\n",
    "print (\"saving files.\")\n",
    "# change\n",
    "h5f0 = h5py.File('particles_in_halos_1.h5', 'w')\n",
    "h5f0.create_dataset('data', data=particles_in_halos)\n",
    "h5f0.close()\n",
    "\n",
    "h5f1 = h5py.File('density_1.h5', 'w')\n",
    "h5f1.create_dataset('data', data=density_list) \n",
    "h5f1.close()"
   ]
  },
  {
   "cell_type": "code",
   "execution_count": 8,
   "metadata": {},
   "outputs": [
    {
     "data": {
      "text/plain": [
       "array([[52.56479178, 70.70140402, 41.80993439],\n",
       "       [27.29242354, 69.02345436, 74.53940022],\n",
       "       [52.7502848 , 10.17180977, 34.58581728],\n",
       "       [10.90888475, 29.59061221, 71.90830348],\n",
       "       [72.54234827, 11.95751671, 18.10588901]])"
      ]
     },
     "execution_count": 8,
     "metadata": {},
     "output_type": "execute_result"
    }
   ],
   "source": [
    "particles_in_halos[:5]"
   ]
  },
  {
   "cell_type": "code",
   "execution_count": 6,
   "metadata": {
    "scrolled": true
   },
   "outputs": [
    {
     "name": "stdout",
     "output_type": "stream",
     "text": [
      "random numbers generated.\n",
      "r, phi, theta generated.\n",
      "x, y, z generated. stacking started.\n",
      "density list ready\n",
      "(938658800, 3)\n",
      "(938658800,)\n",
      "masking.\n",
      "(938544244, 3)\n",
      "(938544244,)\n",
      "saving files.\n"
     ]
    }
   ],
   "source": [
    "particles_in_halos = get_particle_position_density(redshift_df, 200)\n",
    "particles_in_halos = np.stack((particles_in_halos), axis=1)\n",
    "particles_in_halos = particles_in_halos.reshape(4693294*200,3)\n",
    "\n",
    "density_list = get_dens_list(redshift_df, 200)\n",
    "print (\"density list ready\")\n",
    "\n",
    "mask = (particles_in_halos>=0)&(particles_in_halos<=75)\n",
    "print (mask.shape)\n",
    "mask = mask.all(1)\n",
    "print (mask.shape)\n",
    "print (\"masking.\")\n",
    "\n",
    "particles_in_halos = particles_in_halos[mask]\n",
    "print (particles_in_halos.shape)\n",
    "density_list = density_list[mask]\n",
    "print (density_list.shape)\n",
    "print (\"saving files.\")\n",
    "# change\n",
    "h5f0 = h5py.File('particles_in_halos_2.h5', 'w')\n",
    "h5f0.create_dataset('data', data=particles_in_halos)\n",
    "h5f0.close()\n",
    "\n",
    "h5f1 = h5py.File('density_2.h5', 'w')\n",
    "h5f1.create_dataset('data', data=density_list)\n",
    "h5f1.close()"
   ]
  },
  {
   "cell_type": "code",
   "execution_count": 7,
   "metadata": {},
   "outputs": [
    {
     "data": {
      "text/plain": [
       "array([[52.56537948, 70.71177445, 41.80807988],\n",
       "       [27.29269192, 68.94130118, 74.48928017],\n",
       "       [52.64532968, 10.29012217, 34.50782292],\n",
       "       [10.87745116, 29.59810839, 71.93384831],\n",
       "       [72.51489586, 12.00457256, 18.12148813]])"
      ]
     },
     "execution_count": 7,
     "metadata": {},
     "output_type": "execute_result"
    }
   ],
   "source": [
    "particles_in_halos[:5]"
   ]
  },
  {
   "cell_type": "code",
   "execution_count": 6,
   "metadata": {
    "scrolled": true
   },
   "outputs": [
    {
     "name": "stdout",
     "output_type": "stream",
     "text": [
      "random numbers generated.\n",
      "r, phi, theta generated.\n",
      "x, y, z generated. stacking started.\n",
      "density list ready\n",
      "(938658800, 3)\n",
      "(938658800,)\n",
      "masking.\n",
      "(938544845, 3)\n",
      "(938544845,)\n",
      "saving files.\n"
     ]
    }
   ],
   "source": [
    "particles_in_halos = get_particle_position_density(redshift_df, 200)\n",
    "particles_in_halos = np.stack((particles_in_halos), axis=1)\n",
    "particles_in_halos = particles_in_halos.reshape(4693294*200,3)\n",
    "\n",
    "density_list = get_dens_list(redshift_df, 200)\n",
    "print (\"density list ready\")\n",
    "\n",
    "mask = (particles_in_halos>=0)&(particles_in_halos<=75)\n",
    "print (mask.shape)\n",
    "mask = mask.all(1)\n",
    "print (mask.shape)\n",
    "print (\"masking.\")\n",
    "\n",
    "particles_in_halos = particles_in_halos[mask]\n",
    "print (particles_in_halos.shape)\n",
    "density_list = density_list[mask]\n",
    "print (density_list.shape)\n",
    "print (\"saving files.\")\n",
    "# change\n",
    "h5f0 = h5py.File('particles_in_halos_3.h5', 'w')\n",
    "h5f0.create_dataset('data', data=particles_in_halos)\n",
    "h5f0.close()\n",
    "\n",
    "h5f1 = h5py.File('density_3.h5', 'w')\n",
    "h5f1.create_dataset('data', data=density_list)\n",
    "h5f1.close()"
   ]
  },
  {
   "cell_type": "code",
   "execution_count": 7,
   "metadata": {},
   "outputs": [
    {
     "data": {
      "text/plain": [
       "array([[52.53692679, 70.73299461, 41.80167649],\n",
       "       [27.30973922, 68.98333357, 74.50270586],\n",
       "       [52.73538359, 10.30334167, 34.54525276],\n",
       "       [10.75481916, 29.50884321, 71.99957015],\n",
       "       [72.65190345, 11.96005057, 18.07773587]])"
      ]
     },
     "execution_count": 7,
     "metadata": {},
     "output_type": "execute_result"
    }
   ],
   "source": [
    "particles_in_halos[:5]"
   ]
  },
  {
   "cell_type": "code",
   "execution_count": 6,
   "metadata": {
    "scrolled": true
   },
   "outputs": [
    {
     "name": "stdout",
     "output_type": "stream",
     "text": [
      "random numbers generated.\n",
      "r, phi, theta generated.\n",
      "x, y, z generated. stacking started.\n",
      "density list ready\n",
      "(938658800, 3)\n",
      "(938658800,)\n",
      "masking.\n",
      "(938544235, 3)\n",
      "(938544235,)\n",
      "saving files.\n"
     ]
    }
   ],
   "source": [
    "# RUN\n",
    "particles_in_halos = get_particle_position_density(redshift_df, 200)\n",
    "particles_in_halos = np.stack((particles_in_halos), axis=1)\n",
    "particles_in_halos = particles_in_halos.reshape(4693294*200,3)\n",
    "\n",
    "density_list = get_dens_list(redshift_df, 200)\n",
    "print (\"density list ready\")\n",
    "\n",
    "mask = (particles_in_halos>=0)&(particles_in_halos<=75)\n",
    "print (mask.shape)\n",
    "mask = mask.all(1)\n",
    "print (mask.shape)\n",
    "print (\"masking.\")\n",
    "\n",
    "particles_in_halos = particles_in_halos[mask]\n",
    "print (particles_in_halos.shape)\n",
    "density_list = density_list[mask]\n",
    "print (density_list.shape)\n",
    "print (\"saving files.\")\n",
    "# change\n",
    "h5f0 = h5py.File('particles_in_halos_4.h5', 'w')\n",
    "h5f0.create_dataset('data', data=particles_in_halos)\n",
    "h5f0.close()\n",
    "\n",
    "h5f1 = h5py.File('density_4.h5', 'w')\n",
    "h5f1.create_dataset('data', data=density_list)\n",
    "h5f1.close()"
   ]
  },
  {
   "cell_type": "code",
   "execution_count": 7,
   "metadata": {},
   "outputs": [
    {
     "data": {
      "text/plain": [
       "array([[52.5633382 , 70.70964935, 41.8076254 ],\n",
       "       [27.31835465, 68.98228205, 74.51232922],\n",
       "       [52.65090529, 10.28942945, 34.52664456],\n",
       "       [10.91542927, 29.6324498 , 71.93854608],\n",
       "       [72.54258841, 11.99061174, 18.10698325]])"
      ]
     },
     "execution_count": 7,
     "metadata": {},
     "output_type": "execute_result"
    }
   ],
   "source": [
    "particles_in_halos[:5]"
   ]
  },
  {
   "cell_type": "code",
   "execution_count": 6,
   "metadata": {},
   "outputs": [
    {
     "name": "stdout",
     "output_type": "stream",
     "text": [
      "random numbers generated.\n",
      "r, phi, theta generated.\n",
      "x, y, z generated. stacking started.\n",
      "density list ready\n",
      "(938658800, 3)\n",
      "(938658800,)\n",
      "masking.\n",
      "(938544938, 3)\n",
      "(938544938,)\n",
      "saving files.\n"
     ]
    }
   ],
   "source": [
    "particles_in_halos = get_particle_position_density(redshift_df, 200)\n",
    "particles_in_halos = np.stack((particles_in_halos), axis=1)\n",
    "particles_in_halos = particles_in_halos.reshape(4693294*200,3)\n",
    "\n",
    "density_list = get_dens_list(redshift_df, 200)\n",
    "print (\"density list ready\")\n",
    "\n",
    "mask = (particles_in_halos>=0)&(particles_in_halos<=75)\n",
    "print (mask.shape)\n",
    "mask = mask.all(1)\n",
    "print (mask.shape)\n",
    "print (\"masking.\")\n",
    "\n",
    "particles_in_halos = particles_in_halos[mask]\n",
    "print (particles_in_halos.shape)\n",
    "density_list = density_list[mask]\n",
    "print (density_list.shape)\n",
    "print (\"saving files.\")\n",
    "# change\n",
    "h5f0 = h5py.File('particles_in_halos_5.h5', 'w')\n",
    "h5f0.create_dataset('data', data=particles_in_halos)\n",
    "h5f0.close()\n",
    "\n",
    "h5f1 = h5py.File('density_5.h5', 'w')\n",
    "h5f1.create_dataset('data', data=density_list)\n",
    "h5f1.close()"
   ]
  },
  {
   "cell_type": "code",
   "execution_count": 7,
   "metadata": {},
   "outputs": [
    {
     "data": {
      "text/plain": [
       "array([[52.56523727, 70.70998015, 41.80542553],\n",
       "       [27.28391896, 68.97296089, 74.51881229],\n",
       "       [52.61992896, 10.25184997, 34.51566094],\n",
       "       [10.95254577, 29.5644444 , 71.92763051],\n",
       "       [72.56178779, 12.05531135, 18.08314273]])"
      ]
     },
     "execution_count": 7,
     "metadata": {},
     "output_type": "execute_result"
    }
   ],
   "source": [
    "particles_in_halos[:5]"
   ]
  },
  {
   "cell_type": "code",
   "execution_count": null,
   "metadata": {
    "collapsed": true
   },
   "outputs": [],
   "source": [
    "# write delta to h5py"
   ]
  },
  {
   "cell_type": "code",
   "execution_count": 2,
   "metadata": {},
   "outputs": [
    {
     "name": "stdout",
     "output_type": "stream",
     "text": [
      "pos 5/5 read.\n",
      "dens 5/5 read.\n"
     ]
    }
   ],
   "source": [
    "# pos1 = h5py.File('particles_in_halos_1.h5', 'r')[\"data\"][:]\n",
    "# print (\"pos 1/5 read.\")\n",
    "# pos2 = h5py.File('particles_in_halos_2.h5', 'r')[\"data\"][:]\n",
    "# print (\"pos 2/5 read.\")\n",
    "# pos3 = h5py.File('particles_in_halos_3.h5', 'r')[\"data\"][:]\n",
    "# print (\"pos 3/5 read.\")\n",
    "# pos4 = h5py.File('particles_in_halos_4.h5', 'r')[\"data\"][:]\n",
    "# print (\"pos 4/5 read.\")\n",
    "pos5 = h5py.File('particles_in_halos_5.h5', 'r')[\"data\"][:]\n",
    "print (\"pos 5/5 read.\")\n",
    "\n",
    "# dens1 = h5py.File('density_1.h5', 'r')[\"data\"][:]\n",
    "# print (\"dens 1/5 read.\")\n",
    "# dens2 = h5py.File('density_2.h5', 'r')[\"data\"][:]\n",
    "# print (\"dens 2/5 read.\")\n",
    "# dens3 = h5py.File('density_3.h5', 'r')[\"data\"][:]\n",
    "# print (\"dens 3/5 read.\")\n",
    "# dens4 = h5py.File('density_4.h5', 'r')[\"data\"][:]\n",
    "# print (\"dens 4/5 read.\")\n",
    "dens5 = h5py.File('density_5.h5', 'r')[\"data\"][:]\n",
    "print (\"dens 5/5 read.\")"
   ]
  },
  {
   "cell_type": "code",
   "execution_count": 3,
   "metadata": {},
   "outputs": [
    {
     "name": "stdout",
     "output_type": "stream",
     "text": [
      "writing delta file.\n"
     ]
    }
   ],
   "source": [
    "BoxSize = 75.0\n",
    "# pos = np.vstack((pos1,pos2,pos3,pos4,pos5))\n",
    "# mhi = np.vstack((dens1,dens2,dens3,dens4,dens5))\n",
    "delta = np.zeros((2048,2048,2048)).astype(np.float32)\n",
    "# print (type(delta))\n",
    "MASL.MA(pos1.astype(np.float32), delta, BoxSize, MAS=\"CIC\", W=dens1.astype(np.float32))\n",
    "print (\"writing delta file.\")\n",
    "h5f1 = h5py.File('delta_mas_1.h5', 'w')\n",
    "h5f1.create_dataset('data', data=delta)\n",
    "h5f1.close()"
   ]
  },
  {
   "cell_type": "code",
   "execution_count": 6,
   "metadata": {},
   "outputs": [
    {
     "data": {
      "text/plain": [
       "252587060.0"
      ]
     },
     "execution_count": 6,
     "metadata": {},
     "output_type": "execute_result"
    }
   ],
   "source": [
    "np.sum(delta[:64,:64,:64])"
   ]
  },
  {
   "cell_type": "code",
   "execution_count": 5,
   "metadata": {},
   "outputs": [
    {
     "data": {
      "text/plain": [
       "0.0"
      ]
     },
     "execution_count": 5,
     "metadata": {},
     "output_type": "execute_result"
    }
   ],
   "source": [
    "np.sum(delta[2000:,2000:,2000:])"
   ]
  },
  {
   "cell_type": "code",
   "execution_count": 3,
   "metadata": {},
   "outputs": [
    {
     "name": "stdout",
     "output_type": "stream",
     "text": [
      "writing delta file.\n"
     ]
    }
   ],
   "source": [
    "# RUN\n",
    "BoxSize = 75.0\n",
    "# pos = np.vstack((pos1,pos2,pos3,pos4,pos5))\n",
    "# mhi = np.vstack((dens1,dens2,dens3,dens4,dens5))\n",
    "delta = h5py.File('delta_mas_1.h5', 'r')[\"data\"][:]\n",
    "MASL.MA(pos2.astype(np.float32), delta, BoxSize, MAS=\"CIC\", W=dens2.astype(np.float32))\n",
    "print (\"writing delta file.\")\n",
    "h5f1 = h5py.File('delta_mas_2.h5', 'w')\n",
    "h5f1.create_dataset('data', data=delta)\n",
    "h5f1.close()"
   ]
  },
  {
   "cell_type": "code",
   "execution_count": 4,
   "metadata": {},
   "outputs": [
    {
     "data": {
      "text/plain": [
       "505331100.0"
      ]
     },
     "execution_count": 4,
     "metadata": {},
     "output_type": "execute_result"
    }
   ],
   "source": [
    "np.sum(delta[:64,:64,:64])"
   ]
  },
  {
   "cell_type": "code",
   "execution_count": 5,
   "metadata": {},
   "outputs": [
    {
     "data": {
      "text/plain": [
       "0.0"
      ]
     },
     "execution_count": 5,
     "metadata": {},
     "output_type": "execute_result"
    }
   ],
   "source": [
    "np.sum(delta[2000:,2000:,2000:])"
   ]
  },
  {
   "cell_type": "code",
   "execution_count": 3,
   "metadata": {},
   "outputs": [
    {
     "name": "stdout",
     "output_type": "stream",
     "text": [
      "start.\n",
      "<type 'numpy.ndarray'>\n",
      "writing delta file.\n"
     ]
    }
   ],
   "source": [
    "# RUN\n",
    "BoxSize = 75.0\n",
    "print (\"start.\")\n",
    "# pos = np.vstack((pos1,pos2,pos3,pos4,pos5))\n",
    "# mhi = np.vstack((dens1,dens2,dens3,dens4,dens5))\n",
    "delta = h5py.File('delta_mas_2.h5', 'r')[\"data\"][:]\n",
    "print (type(delta))\n",
    "MASL.MA(pos3.astype(np.float32), delta, BoxSize, MAS=\"CIC\", W=dens3.astype(np.float32))\n",
    "print (\"writing delta file.\")\n",
    "h5f1 = h5py.File('delta_mas_3.h5', 'w')\n",
    "h5f1.create_dataset('data', data=delta)\n",
    "h5f1.close()"
   ]
  },
  {
   "cell_type": "code",
   "execution_count": 7,
   "metadata": {},
   "outputs": [
    {
     "data": {
      "text/plain": [
       "758410800.0"
      ]
     },
     "execution_count": 7,
     "metadata": {},
     "output_type": "execute_result"
    }
   ],
   "source": [
    "np.sum(delta[:64,:64,:64])"
   ]
  },
  {
   "cell_type": "code",
   "execution_count": 8,
   "metadata": {},
   "outputs": [
    {
     "data": {
      "text/plain": [
       "0.0"
      ]
     },
     "execution_count": 8,
     "metadata": {},
     "output_type": "execute_result"
    }
   ],
   "source": [
    "np.sum(delta[2000:,2000:,2000:])"
   ]
  },
  {
   "cell_type": "code",
   "execution_count": 3,
   "metadata": {},
   "outputs": [
    {
     "name": "stdout",
     "output_type": "stream",
     "text": [
      "<type 'numpy.ndarray'>\n",
      "writing delta file.\n"
     ]
    }
   ],
   "source": [
    "BoxSize = 75.0\n",
    "# pos = np.vstack((pos1,pos2,pos3,pos4,pos5))\n",
    "# mhi = np.vstack((dens1,dens2,dens3,dens4,dens5))\n",
    "delta = h5py.File('delta_mas_3.h5', 'r')[\"data\"][:]\n",
    "print (type(delta))\n",
    "MASL.MA(pos4.astype(np.float32), delta, BoxSize, MAS=\"CIC\", W=dens4.astype(np.float32))\n",
    "print (\"writing delta file.\")\n",
    "h5f1 = h5py.File('delta_mas_4.h5', 'w')\n",
    "h5f1.create_dataset('data', data=delta)\n",
    "h5f1.close()"
   ]
  },
  {
   "cell_type": "code",
   "execution_count": 5,
   "metadata": {},
   "outputs": [
    {
     "data": {
      "text/plain": [
       "1011042100.0"
      ]
     },
     "execution_count": 5,
     "metadata": {},
     "output_type": "execute_result"
    }
   ],
   "source": [
    "np.sum(delta[:64,:64,:64])"
   ]
  },
  {
   "cell_type": "code",
   "execution_count": 4,
   "metadata": {},
   "outputs": [
    {
     "data": {
      "text/plain": [
       "0.0"
      ]
     },
     "execution_count": 4,
     "metadata": {},
     "output_type": "execute_result"
    }
   ],
   "source": [
    "np.sum(delta[2000:,2000:,2000:])"
   ]
  },
  {
   "cell_type": "code",
   "execution_count": 3,
   "metadata": {
    "scrolled": true
   },
   "outputs": [
    {
     "name": "stdout",
     "output_type": "stream",
     "text": [
      "<type 'numpy.ndarray'>\n",
      "writing delta file.\n"
     ]
    }
   ],
   "source": [
    "# RUN NEXT KERNEL\n",
    "BoxSize = 75.0\n",
    "# pos = np.vstack((pos1,pos2,pos3,pos4,pos5))\n",
    "# mhi = np.vstack((dens1,dens2,dens3,dens4,dens5))\n",
    "delta = h5py.File('delta_mas_4.h5', 'r')[\"data\"][:]\n",
    "print (type(delta))\n",
    "MASL.MA(pos5.astype(np.float32), delta, BoxSize, MAS=\"CIC\", W=dens5.astype(np.float32))\n",
    "print (\"writing delta file.\")\n",
    "h5f1 = h5py.File('delta_mas_5.h5', 'w')\n",
    "h5f1.create_dataset('data', data=delta)\n",
    "h5f1.close()"
   ]
  },
  {
   "cell_type": "code",
   "execution_count": 4,
   "metadata": {},
   "outputs": [
    {
     "data": {
      "text/plain": [
       "1264489900.0"
      ]
     },
     "execution_count": 4,
     "metadata": {},
     "output_type": "execute_result"
    }
   ],
   "source": [
    "np.sum(delta[:64,:64,:64])"
   ]
  },
  {
   "cell_type": "code",
   "execution_count": 5,
   "metadata": {},
   "outputs": [
    {
     "data": {
      "text/plain": [
       "0.0"
      ]
     },
     "execution_count": 5,
     "metadata": {},
     "output_type": "execute_result"
    }
   ],
   "source": [
    "np.sum(delta[2000:,2000:,2000:])"
   ]
  },
  {
   "cell_type": "code",
   "execution_count": 6,
   "metadata": {
    "collapsed": true
   },
   "outputs": [],
   "source": [
    "import itertools\n",
    "path = \"new_hod_grid\"\n",
    "edge_r = list(np.arange(0, 2048, 64))\n",
    "lower_corners = list(itertools.product(edge_r, edge_r, edge_r))\n",
    "for corner in lower_corners:\n",
    "    with open(\"{}/lower_corner_{}_{}_{}.pkl\".format(path, corner[0], corner[1], corner[2]),\"wb\") as f:\n",
    "        pkl.dump(delta[corner[0]:corner[0]+64,corner[1]:corner[1]+64,corner[2]:corner[2]+64], \n",
    "                 f, protocol = 2)"
   ]
  },
  {
   "cell_type": "code",
   "execution_count": null,
   "metadata": {
    "collapsed": true
   },
   "outputs": [],
   "source": []
  }
 ],
 "metadata": {
  "kernelspec": {
   "display_name": "Python 3",
   "language": "python",
   "name": "python3"
  },
  "language_info": {
   "codemirror_mode": {
    "name": "ipython",
    "version": 3
   },
   "file_extension": ".py",
   "mimetype": "text/x-python",
   "name": "python",
   "nbconvert_exporter": "python",
   "pygments_lexer": "ipython3",
   "version": "3.6.6"
  }
 },
 "nbformat": 4,
 "nbformat_minor": 2
}
